{
  "nbformat": 4,
  "nbformat_minor": 0,
  "metadata": {
    "colab": {
      "name": "AsignacionClase8_EjerciciosLambda_LoganDanielBeltranRuiz_1000382874.ipynb",
      "provenance": [],
      "collapsed_sections": []
    },
    "kernelspec": {
      "name": "python3",
      "display_name": "Python 3"
    },
    "language_info": {
      "name": "python"
    }
  },
  "cells": [
    {
      "cell_type": "markdown",
      "source": [
        "## Asignación\n",
        "\n",
        "1. Convertir °C a Kelvin\n",
        "2. Calcular CV (Coeficiente de variación)\n",
        "3. Seleccionar un tamaño de muestra\n",
        "4. Convetir absorbancia en transmitancia\n",
        "5. Convertir coordenadas rectangulares a polares"
      ],
      "metadata": {
        "id": "FReMyURKV_s8"
      }
    },
    {
      "cell_type": "code",
      "source": [
        "ConversionK = lambda numero : numero + 273.15\n",
        "ConversionK(15)"
      ],
      "metadata": {
        "colab": {
          "base_uri": "https://localhost:8080/"
        },
        "id": "C5Fx4HkYWKAy",
        "outputId": "858515a8-b0ff-4dca-9fac-c276b26618d6"
      },
      "execution_count": 4,
      "outputs": [
        {
          "output_type": "execute_result",
          "data": {
            "text/plain": [
              "288.15"
            ]
          },
          "metadata": {},
          "execution_count": 4
        }
      ]
    },
    {
      "cell_type": "code",
      "source": [
        "import numpy as np\n",
        "CV = lambda Sx, medX : (Sx/abs(medX))*100\n",
        "CV(5,15)"
      ],
      "metadata": {
        "colab": {
          "base_uri": "https://localhost:8080/"
        },
        "id": "TTu6JusmW1-1",
        "outputId": "4fc6ee93-9364-439c-80bb-2b654314191a"
      },
      "execution_count": 8,
      "outputs": [
        {
          "output_type": "execute_result",
          "data": {
            "text/plain": [
              "33.33333333333333"
            ]
          },
          "metadata": {},
          "execution_count": 8
        }
      ]
    },
    {
      "cell_type": "code",
      "source": [
        "TamMuestra = lambda DesvEst, NivConfianza, Zscore : ((Zscore**2) * DesvEst * (1-DesvEst)) / ((1-(NivConfianza/100))**2)\n",
        "TamMuestra(0.5, 95, 1.96)"
      ],
      "metadata": {
        "colab": {
          "base_uri": "https://localhost:8080/"
        },
        "id": "kneT3G4CYX82",
        "outputId": "7236f4ae-3e36-43d3-f80b-c6f3b37999fc"
      },
      "execution_count": 17,
      "outputs": [
        {
          "output_type": "execute_result",
          "data": {
            "text/plain": [
              "384.1599999999993"
            ]
          },
          "metadata": {},
          "execution_count": 17
        }
      ]
    },
    {
      "cell_type": "code",
      "source": [
        "ConverAbsorbancia = lambda Transm : 2 - np.log10(Transm)\n",
        "ConverAbsorbancia(56)"
      ],
      "metadata": {
        "colab": {
          "base_uri": "https://localhost:8080/"
        },
        "id": "z96mPe0FeIue",
        "outputId": "b23348db-6a46-4c20-b37f-e6c996f5d9a4"
      },
      "execution_count": 21,
      "outputs": [
        {
          "output_type": "execute_result",
          "data": {
            "text/plain": [
              "0.25181197299379954"
            ]
          },
          "metadata": {},
          "execution_count": 21
        }
      ]
    },
    {
      "cell_type": "code",
      "source": [
        "ConverTransmitancia = lambda Absb : 10**((2 - Absb))\n",
        "ConverTransmitancia(0.505)"
      ],
      "metadata": {
        "colab": {
          "base_uri": "https://localhost:8080/"
        },
        "id": "4WincqWEhACz",
        "outputId": "a626e557-86d2-4fae-ec96-c14110efffd2"
      },
      "execution_count": 23,
      "outputs": [
        {
          "output_type": "execute_result",
          "data": {
            "text/plain": [
              "31.260793671239558"
            ]
          },
          "metadata": {},
          "execution_count": 23
        }
      ]
    },
    {
      "cell_type": "code",
      "source": [
        "import math\n",
        "\n",
        "r = lambda x, y : \n",
        "r(5,7)\n"
      ],
      "metadata": {
        "colab": {
          "base_uri": "https://localhost:8080/"
        },
        "id": "b1JncsEQhnx7",
        "outputId": "84238bfe-4837-435c-d967-735dea155188"
      },
      "execution_count": 44,
      "outputs": [
        {
          "output_type": "execute_result",
          "data": {
            "text/plain": [
              "54.46232220802562"
            ]
          },
          "metadata": {},
          "execution_count": 44
        }
      ]
    },
    {
      "cell_type": "code",
      "source": [
        "import math\n",
        "\n",
        "CartaPolar = lambda x, y : [math.sqrt(x**2+y**2), math.degrees(math.atan(y/x)) ]\n",
        "CartaPolar(-4,5) "
      ],
      "metadata": {
        "colab": {
          "base_uri": "https://localhost:8080/"
        },
        "id": "-z7k2fKMk0XB",
        "outputId": "9164c301-8cc4-485e-d73b-251aae8333a5"
      },
      "execution_count": 45,
      "outputs": [
        {
          "output_type": "execute_result",
          "data": {
            "text/plain": [
              "[6.4031242374328485, -51.34019174590991]"
            ]
          },
          "metadata": {},
          "execution_count": 45
        }
      ]
    }
  ]
}