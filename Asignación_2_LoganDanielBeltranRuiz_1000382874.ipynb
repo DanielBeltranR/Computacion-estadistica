{
  "nbformat": 4,
  "nbformat_minor": 0,
  "metadata": {
    "colab": {
      "name": "Asignación 2_LoganDanielBeltranRuiz-1000382874.ipynb",
      "provenance": [],
      "collapsed_sections": []
    },
    "kernelspec": {
      "name": "python3",
      "display_name": "Python 3"
    },
    "language_info": {
      "name": "python"
    }
  },
  "cells": [
    {
      "cell_type": "markdown",
      "source": [
        "# Asignacion 2. \n",
        "Logan Daniel Beltran Ruiz - 1000382874\n",
        "\n",
        "1. Lleve a codigo funcional las funciones:\n"
      ],
      "metadata": {
        "id": "LIAm0hLPqs0T"
      }
    },
    {
      "cell_type": "markdown",
      "source": [
        "$$Y_{1}= log(x)$$"
      ],
      "metadata": {
        "id": "k_crT0XKrk3K"
      }
    },
    {
      "cell_type": "code",
      "source": [
        "from math import log\n",
        "\n",
        "x = float (input(\"Ingrese x: \"))\n",
        "if (x<=0) or (x==1):\n",
        "  print ('Fuera del dominio de x')\n",
        "else:\n",
        "  y1 = log(x,10)\n",
        "  print (f'Con un x igual a {x} tenemos que la funcion Y1 es {y1}')"
      ],
      "metadata": {
        "colab": {
          "base_uri": "https://localhost:8080/"
        },
        "id": "54z6Bh7drX0V",
        "outputId": "b1422355-1c48-47a5-c152-f8bfcaa36224"
      },
      "execution_count": 10,
      "outputs": [
        {
          "output_type": "stream",
          "name": "stdout",
          "text": [
            "Ingrese x: 4\n",
            "Con un x igual a 4.0 tenemos que la funcion Y1 es 0.6020599913279623\n"
          ]
        }
      ]
    },
    {
      "cell_type": "markdown",
      "source": [
        "$$Y_{2}= log(\\sqrt{x})$$"
      ],
      "metadata": {
        "id": "0nLosK7GvA9i"
      }
    },
    {
      "cell_type": "code",
      "source": [
        "x = float (input(\"Ingrese x: \"))\n",
        "if (x<=0) or (x==1):\n",
        "  print ('Fuera del dominio de x')\n",
        "else:\n",
        "  y2 = log((x)**(1/2),10)\n",
        "  print ('La funcion Y2 es {:.3f}'.format(y2))"
      ],
      "metadata": {
        "colab": {
          "base_uri": "https://localhost:8080/"
        },
        "id": "jVADEi5cvTni",
        "outputId": "53dff1bc-b8f6-4550-fdd9-7d72a1b88819"
      },
      "execution_count": 12,
      "outputs": [
        {
          "output_type": "stream",
          "name": "stdout",
          "text": [
            "Ingrese x: 4\n",
            "La funcion Y2 es 0.301\n"
          ]
        }
      ]
    },
    {
      "cell_type": "markdown",
      "source": [
        "$$Y_{3}= log(\\sqrt{x^{2}-1})$$"
      ],
      "metadata": {
        "id": "vRm4pYFGy6G5"
      }
    },
    {
      "cell_type": "code",
      "source": [
        "x = float (input(\"Ingrese x: \"))\n",
        "if (x<=0) or (x==1):\n",
        "  print ('Fuera del dominio de x')\n",
        "else:\n",
        "  y3 = log(((x**2)-1)**1/2,10)\n",
        "  print (f'Con un x igual a {x} tenemos que la funcion Y3 es {y3}')"
      ],
      "metadata": {
        "colab": {
          "base_uri": "https://localhost:8080/"
        },
        "id": "oQzak4iKzHHn",
        "outputId": "8bc82fc6-1247-4db6-bedf-dd8021e34fe6"
      },
      "execution_count": 24,
      "outputs": [
        {
          "output_type": "stream",
          "name": "stdout",
          "text": [
            "Ingrese x: 5\n",
            "Con un x igual a 5.0 tenemos que la funcion Y3 es 1.0791812460476247\n"
          ]
        }
      ]
    },
    {
      "cell_type": "markdown",
      "source": [
        "$$Y_{4}= \\frac{log(\\sqrt{x-1})}{x^{2}+1}$$"
      ],
      "metadata": {
        "id": "GWWy2su92WUq"
      }
    },
    {
      "cell_type": "code",
      "source": [
        "x = float (input(\"Ingrese x: \"))\n",
        "if (x<=0) or (x==1):\n",
        "  print ('Fuera del dominio de x')\n",
        "else:\n",
        "  y4 = log((x-1)**1/2,10)/((x**2)+1)\n",
        "  print (f'Con un x igual a {x} tenemos que la funcion Y4 es {y4}')"
      ],
      "metadata": {
        "colab": {
          "base_uri": "https://localhost:8080/"
        },
        "id": "y6eCbcm32w1E",
        "outputId": "4a429f2b-816c-43b1-fc1a-349db19b216b"
      },
      "execution_count": 25,
      "outputs": [
        {
          "output_type": "stream",
          "name": "stdout",
          "text": [
            "Ingrese x: 4\n",
            "Con un x igual a 4.0 tenemos que la funcion Y3 es 0.010358309356216544\n"
          ]
        }
      ]
    },
    {
      "cell_type": "markdown",
      "source": [
        "$$Y_{5}= \\frac{x-1}{log(x)}$$"
      ],
      "metadata": {
        "id": "_IwxexSR3_wW"
      }
    },
    {
      "cell_type": "code",
      "source": [
        "x = float (input(\"Ingrese x: \"))\n",
        "if (x<=0) or (x==1):\n",
        "  print ('Fuera del dominio de x')\n",
        "else:\n",
        "  y5 = (x-1)/log(x,10)\n",
        "  print (f'Con un x igual a {x} tenemos que la funcion Y5 es {y5}')"
      ],
      "metadata": {
        "colab": {
          "base_uri": "https://localhost:8080/"
        },
        "id": "imAGHrG34CVN",
        "outputId": "8ba1ce09-ff74-4637-8a63-880280490bb9"
      },
      "execution_count": 26,
      "outputs": [
        {
          "output_type": "stream",
          "name": "stdout",
          "text": [
            "Ingrese x: 6\n",
            "Con un x igual a 6.0 tenemos que la funcion Y3 es 6.425486044692344\n"
          ]
        }
      ]
    },
    {
      "cell_type": "markdown",
      "source": [
        "$$Y_{6}= \\frac{1}{x}+\\sqrt{x-1}$$"
      ],
      "metadata": {
        "id": "fBTkzYyv4PvL"
      }
    },
    {
      "cell_type": "code",
      "source": [
        "x = float (input(\"Ingrese x: \"))\n",
        "if (x<=0) or (x==1):\n",
        "  print ('Fuera del dominio de x')\n",
        "else:\n",
        "  y6 = (1/x)+((x-1)**(1/2))\n",
        "  print (f'Con un x igual a {x} tenemos que la funcion Y6 es {y6}')"
      ],
      "metadata": {
        "colab": {
          "base_uri": "https://localhost:8080/"
        },
        "id": "5WKJ4Yd25OfF",
        "outputId": "4aaf5b5b-8ba0-4181-bc1d-ada4d7aa6443"
      },
      "execution_count": 29,
      "outputs": [
        {
          "output_type": "stream",
          "name": "stdout",
          "text": [
            "Ingrese x: 8\n",
            "Con un x igual a 8.0 tenemos que la funcion Y3 es 2.7707513110645907\n"
          ]
        }
      ]
    },
    {
      "cell_type": "markdown",
      "source": [
        "$$Y_{7}= \\frac{1}{x}+\\sqrt{x-1} - \\frac{1}{log(\\frac{1}{x+1})}$$"
      ],
      "metadata": {
        "id": "rGv8UxoM6g34"
      }
    },
    {
      "cell_type": "code",
      "source": [
        "x = float (input(\"Ingrese x: \"))\n",
        "if (x<=0) or (x==1):\n",
        "  print ('Fuera del dominio de x')\n",
        "else:\n",
        "  y7 = ((1/x)+((x-1)**(1/2))) - (1/(log(1/(x+1),10)))\n",
        "  print (f'Con un x igual a {x} tenemos que la funcion Y7 es {y7}')"
      ],
      "metadata": {
        "colab": {
          "base_uri": "https://localhost:8080/"
        },
        "id": "HgtrNUY_7WZe",
        "outputId": "3849c01b-8063-4151-e6c5-4825d8a8b992"
      },
      "execution_count": 32,
      "outputs": [
        {
          "output_type": "stream",
          "name": "stdout",
          "text": [
            "Ingrese x: 6\n",
            "Con un x igual a 6.0 tenemos que la funcion Y7 es 3.586029306621395\n"
          ]
        }
      ]
    },
    {
      "cell_type": "markdown",
      "source": [
        "$$Y_{8}= \\frac{2}{x^{2}+1}$$"
      ],
      "metadata": {
        "id": "f22AWxvD9jNc"
      }
    },
    {
      "cell_type": "code",
      "source": [
        "x = float (input(\"Ingrese x: \"))\n",
        "if (x<=0) or (x==1):\n",
        "  print ('Fuera del dominio de x')\n",
        "else:\n",
        "  y8 = 2/((x**2)+1)\n",
        "  print (f'Con un x igual a {x} tenemos que la funcion Y8 es {y8}')"
      ],
      "metadata": {
        "colab": {
          "base_uri": "https://localhost:8080/"
        },
        "id": "avQOOQyz9xVA",
        "outputId": "ae40fdc9-61e1-4785-cb05-4cfdf03f691b"
      },
      "execution_count": 34,
      "outputs": [
        {
          "output_type": "stream",
          "name": "stdout",
          "text": [
            "Ingrese x: 6\n",
            "Con un x igual a 6.0 tenemos que la funcion Y7 es 0.05405405405405406\n"
          ]
        }
      ]
    },
    {
      "cell_type": "markdown",
      "source": [
        "$$Y_{9}= \\frac{1}{n}\\sum_{i=1}^{n}x_i{}$$\n",
        "$$Y_{10}= \\frac{1}{n-1}\\sum_{i=1}^{n}(x_i{}-\\widehat{x})^{2}$$\n",
        "$$Y_{11}= \\frac{\\sqrt{Y_{10}}}{Y_{9}}$$"
      ],
      "metadata": {
        "id": "oFAMo3wd-UAu"
      }
    },
    {
      "cell_type": "code",
      "source": [
        "x = float (input(\"Ingrese el valor de x: \"))\n",
        "i = 1\n",
        "n = float (input(\"Ingrese el valor de n: \"))\n",
        "sumatoria = 0\n",
        "\n",
        "if (x<=0) or (x==1):\n",
        "  print ('Fuera del dominio de x para la operacion de la funcion y9')\n",
        "else:\n",
        "  print (f'Con un x igual a {x}')\n",
        "  while i<=n:\n",
        "    sumatoria += i*x\n",
        "    i += 1\n",
        "  y9 = (1/n) * sumatoria\n",
        "  print (f'Obtenemos como resultado para la funcion Y9: {y9}')\n",
        "\n",
        "if (x<=0) or (x==1):\n",
        "  print ('Fuera del dominio de x para la operacion de la funcion y10')\n",
        "else:\n",
        "  while i<=n:\n",
        "    sumatoria += ((x*i)-x)**(2)\n",
        "    i += 1\n",
        "  y10 = (1/(n-1)) * sumatoria\n",
        "  print (f'Obtenemos como resultado para la funcion Y10: {y10}')\n",
        "\n",
        "if (y10<=y9) and (y9<=0) and (y10<=0):\n",
        "  print ('La operacion no se puede resolver')\n",
        "else:\n",
        "  y11 = ((y10)**(1/2))/y9\n",
        "  print (f'Finalmente como resultado para la funcion Y11 nos da: {y11}')\n",
        "\n",
        "\n"
      ],
      "metadata": {
        "colab": {
          "base_uri": "https://localhost:8080/"
        },
        "id": "qI3_i-0n-3YU",
        "outputId": "391b8e95-08a0-476c-acad-cb9fd72ed787"
      },
      "execution_count": 5,
      "outputs": [
        {
          "output_type": "stream",
          "name": "stdout",
          "text": [
            "Ingrese el valor de x: 4\n",
            "Ingrese el valor de n: 3\n",
            "Con un x igual a 4.0\n",
            "Obtenemos como resultado para la funcion Y9: 8.0\n",
            "Obtenemos como resultado para la funcion Y10: 12.0\n",
            "Finalmente como resultado para la funcion Y11 nos da: 0.4330127018922193\n"
          ]
        }
      ]
    },
    {
      "cell_type": "markdown",
      "source": [
        "3.   La cantidad de radiación absorbida puede medirse por la transmitancia. La relación entre transmitancia (T) y absorbancia (A) está dada por la ley Beer-\n",
        "Lambert (ley de Beer). Cree una función para la expresión que aparece en\n",
        "https://www.electrical4u.com/what-is-transmittance/ \n",
        "y genere unos datos de T para determinar.\n",
        "A. Grafique la función."
      ],
      "metadata": {
        "id": "zggwkmC4s8Fz"
      }
    },
    {
      "cell_type": "code",
      "source": [
        "from matplotlib import pyplot\n",
        "from math import log\n",
        "\n",
        "T = float (input(\"Ingrese el valor de la Transmitancia en %: \"))\n",
        "if (T<=0):\n",
        "  print ('El valor ingresado no puede ser procesado')\n",
        "else:\n",
        "  A = 2 - log(T,10)\n",
        "  print (f'Con un porcentaje igual a {T} en la Transmitancia, obtenemos un valor de Absorbancia de {A}')\n",
        "\n",
        "print ('La grafica de la funcion seria la siguiente: ')\n",
        "# Función \n",
        "\n",
        "def f1(x):\n",
        "    return 2 - log(x)\n",
        "\n",
        "# Valores del eje X que toma el gráfico, es decir, la transmitancia.\n",
        "x = range(1, 20)\n",
        "pyplot.plot(x, [f1(i) for i in x])\n",
        "pyplot.axhline(0, color=\"black\")\n",
        "\n",
        "# Limitar los valores de los ejes.\n",
        "pyplot.xlim(0, 10)\n",
        "pyplot.ylim(-5, 5)\n",
        "pyplot.savefig(\"output.png\")\n",
        "# Mostrar el Grafico\n",
        "pyplot.show()"
      ],
      "metadata": {
        "colab": {
          "base_uri": "https://localhost:8080/",
          "height": 317
        },
        "id": "q55lNGCXs921",
        "outputId": "da57993d-712d-479e-a574-c56a44205da8"
      },
      "execution_count": 35,
      "outputs": [
        {
          "output_type": "stream",
          "name": "stdout",
          "text": [
            "Ingrese el valor de la Transmitancia en %: 5\n",
            "Con un porcentaje igual a 5.0 en la Transmitancia, obtenemos un valor de Absorbancia de 1.3010299956639813\n",
            "La grafica de la funcion seria la siguiente: \n"
          ]
        },
        {
          "output_type": "display_data",
          "data": {
            "text/plain": [
              "<Figure size 432x288 with 1 Axes>"
            ],
            "image/png": "[encoded data removed]"
          },
          "metadata": {
            "needs_background": "light"
          }
        }
      ]
    }
  ]
}